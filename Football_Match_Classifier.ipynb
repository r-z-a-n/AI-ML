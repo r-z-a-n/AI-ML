{
 "cells": [
  {
   "cell_type": "markdown",
   "metadata": {
    "id": "EByq_eGZt5pb"
   },
   "source": [
    "## Predicting the outcome of a football match, based on historical match and player data.\n",
    "\n",
    "This football matches dataset includes historical match outcomes, player statistics, and other relevant factors. The objective is to develop a multiclass classification model that accurately predicts the result of a football match: \"home win\", \"away win\", or \"draw\"."
   ]
  },
  {
   "cell_type": "code",
   "execution_count": 1,
   "metadata": {
    "colab": {
     "base_uri": "https://localhost:8080/"
    },
    "id": "qBXKM7EIt5C6",
    "outputId": "f925990b-eac5-4131-e1ae-04978dae1c05"
   },
   "outputs": [
    {
     "name": "stderr",
     "output_type": "stream",
     "text": [
      "Downloading...\n",
      "From: https://drive.google.com/uc?id=15R3R4O7CJdtnV8AhIDLYvtNoRtROf6dk\n",
      "To: /Users/razan./KAUST-RzanAlmagoshi(1111367973)/downloaded_file.csv\n",
      "100%|█████████████████████████████████████████| 122k/122k [00:00<00:00, 567kB/s]\n"
     ]
    }
   ],
   "source": [
    "import gdown\n",
    "import pandas as pd\n",
    "\n",
    "url = 'https://drive.google.com/file/d/15R3R4O7CJdtnV8AhIDLYvtNoRtROf6dk/view?usp=sharing'\n",
    "\n",
    "file_id = url.split('/')[-2]\n",
    "\n",
    "download_url = f'https://drive.google.com/uc?id={file_id}'\n",
    "\n",
    "output = 'downloaded_file.csv'\n",
    "gdown.download(download_url, output, quiet=False)\n",
    "\n",
    "df = pd.read_csv('downloaded_file.csv')"
   ]
  },
  {
   "cell_type": "code",
   "execution_count": 2,
   "metadata": {
    "colab": {
     "base_uri": "https://localhost:8080/"
    },
    "id": "-B2A56g1jWMa",
    "outputId": "5658acef-0939-4c00-fcdc-f3f2db18d01e"
   },
   "outputs": [
    {
     "name": "stdout",
     "output_type": "stream",
     "text": [
      "Imbalance:  Score\n",
      "Home Win    164\n",
      "Draw        135\n",
      "Away win    113\n",
      "Name: count, dtype: int64\n",
      "The data is slightly imbalanced !\n"
     ]
    }
   ],
   "source": [
    "# Imbalance\n",
    "df['Score'].value_counts()\n",
    "print(\"Imbalance: \", df['Score'].value_counts())\n",
    "print(\"The data is slightly imbalanced !\")"
   ]
  },
  {
   "cell_type": "code",
   "execution_count": 3,
   "metadata": {
    "colab": {
     "base_uri": "https://localhost:8080/"
    },
    "id": "alKRoGsDwYAk",
    "outputId": "e3fd3888-2ff3-476d-e286-d1a9971912b9"
   },
   "outputs": [
    {
     "name": "stdout",
     "output_type": "stream",
     "text": [
      "Missing Values:  Season                     0\n",
      "Home Team                  0\n",
      "Away Team                  0\n",
      "Score                      0\n",
      "Month                      0\n",
      "Year                       0\n",
      "WeekOfYear                 0\n",
      "TotalShotsPerHomeTeam      0\n",
      "TotalSoTPerHomeTeam        0\n",
      "TotalPassesPerHomeTeam     0\n",
      "TotalAccurPerHomeTeam      0\n",
      "TotalInaccurPerHomeTeam    0\n",
      "TotalShotsPerAwayTeam      0\n",
      "TotalSoTPerAwayTeam        0\n",
      "TotalPassesPerAwayTeam     0\n",
      "TotalAccurPerAwayTeam      0\n",
      "TotalInaccurPerAwayTeam    0\n",
      "ShotsHomeAway_diff         0\n",
      "SoTHomeAway_diff           0\n",
      "TotalShotsPerMatch         0\n",
      "TotalSoTPerMatch           0\n",
      "TotalPassesPerMatch        0\n",
      "TotalAccurPerMatch         0\n",
      "TotalInaccurPerMatch       0\n",
      "AccurPassesHome            0\n",
      "AccurPassesAway            0\n",
      "AccurPassesMatch           0\n",
      "ShotsPerHalf1Home          0\n",
      "ShotsPerHalf2Home          0\n",
      "SoTPerHalf1Home            0\n",
      "SoTPerHalf2Home            0\n",
      "PassesPerHalf1Home         0\n",
      "PassesPerHalf2Home         0\n",
      "AccurPerHalf1Home          0\n",
      "AccurPerHalf2Home          0\n",
      "InaccurPerHalf1Home        0\n",
      "InaccurPerHalf2Home        0\n",
      "AccurPassesPerHalf1Home    0\n",
      "AccurPassesPerHalf2Home    0\n",
      "ShotsPerHalf1Away          0\n",
      "ShotsPerHalf2Away          0\n",
      "SoTPerHalf1Away            0\n",
      "SoTPerHalf2Away            0\n",
      "PassesPerHalf1Away         0\n",
      "PassesPerHalf2Away         0\n",
      "AccurPerHalf1Away          0\n",
      "AccurPerHalf2Away          0\n",
      "InaccurPerHalf1Away        0\n",
      "InaccurPerHalf2Away        0\n",
      "AccurPassesPerHalf1Away    0\n",
      "AccurPassesPerHalf2Away    0\n",
      "ShotsHalf1_diff            0\n",
      "ShotsHalf2_diff            0\n",
      "SoTHalf1_diff              0\n",
      "SoTHalf2_diff              0\n",
      "dtype: int64\n"
     ]
    }
   ],
   "source": [
    "# Missing Values\n",
    "NoOfMissingValues = df.isnull().sum()\n",
    "print(\"Missing Values: \", NoOfMissingValues)"
   ]
  },
  {
   "cell_type": "code",
   "execution_count": 4,
   "metadata": {
    "colab": {
     "base_uri": "https://localhost:8080/"
    },
    "id": "5RuHM6-Gj50L",
    "outputId": "4cb18e8b-a15c-4dd9-e505-b3e51c94240f"
   },
   "outputs": [
    {
     "name": "stdout",
     "output_type": "stream",
     "text": [
      "Duplicates:  0\n"
     ]
    }
   ],
   "source": [
    "# Duplicates\n",
    "NoOfDuplicates = df.duplicated().sum()\n",
    "print(\"Duplicates: \", NoOfDuplicates)"
   ]
  },
  {
   "cell_type": "code",
   "execution_count": 5,
   "metadata": {
    "colab": {
     "base_uri": "https://localhost:8080/"
    },
    "id": "QJU_3fEnkP1s",
    "outputId": "d859cdc7-43ae-49ec-ef46-57665204d816"
   },
   "outputs": [
    {
     "name": "stdout",
     "output_type": "stream",
     "text": [
      "Categorical Values: \n",
      "          Home Team      Away Team     Score\n",
      "0         Antennae      Andromeda  Away win\n",
      "1        Andromeda       Antennae      Draw\n",
      "2        Andromeda      Butterfly  Away win\n",
      "3        Andromeda          Cigar  Away win\n",
      "4        Andromeda       Circinus  Home Win\n",
      "..             ...            ...       ...\n",
      "407       Sculptor  Medusa Merger  Away win\n",
      "408  Medusa Merger       Sculptor  Home Win\n",
      "409  Medusa Merger       Sombrero  Home Win\n",
      "410      Milky Way       Sculptor      Draw\n",
      "411       Sculptor      Milky Way  Home Win\n",
      "\n",
      "[412 rows x 3 columns]\n"
     ]
    }
   ],
   "source": [
    "# Categorical Values\n",
    "CategoricalValues = df.select_dtypes(exclude=[\"number\",\"bool_\"])\n",
    "print(\"Categorical Values: \\n\", CategoricalValues)"
   ]
  },
  {
   "cell_type": "code",
   "execution_count": 6,
   "metadata": {
    "colab": {
     "base_uri": "https://localhost:8080/",
     "height": 342
    },
    "id": "IZNCaq2Mniem",
    "outputId": "05915ee8-d0db-45f0-b17a-3eba3dee034c"
   },
   "outputs": [
    {
     "data": {
      "text/html": [
       "<div>\n",
       "<style scoped>\n",
       "    .dataframe tbody tr th:only-of-type {\n",
       "        vertical-align: middle;\n",
       "    }\n",
       "\n",
       "    .dataframe tbody tr th {\n",
       "        vertical-align: top;\n",
       "    }\n",
       "\n",
       "    .dataframe thead th {\n",
       "        text-align: right;\n",
       "    }\n",
       "</style>\n",
       "<table border=\"1\" class=\"dataframe\">\n",
       "  <thead>\n",
       "    <tr style=\"text-align: right;\">\n",
       "      <th></th>\n",
       "      <th>Season</th>\n",
       "      <th>Home Team</th>\n",
       "      <th>Away Team</th>\n",
       "      <th>Score</th>\n",
       "      <th>Month</th>\n",
       "      <th>Year</th>\n",
       "      <th>WeekOfYear</th>\n",
       "      <th>TotalShotsPerHomeTeam</th>\n",
       "      <th>TotalSoTPerHomeTeam</th>\n",
       "      <th>TotalPassesPerHomeTeam</th>\n",
       "      <th>...</th>\n",
       "      <th>AccurPerHalf1Away</th>\n",
       "      <th>AccurPerHalf2Away</th>\n",
       "      <th>InaccurPerHalf1Away</th>\n",
       "      <th>InaccurPerHalf2Away</th>\n",
       "      <th>AccurPassesPerHalf1Away</th>\n",
       "      <th>AccurPassesPerHalf2Away</th>\n",
       "      <th>ShotsHalf1_diff</th>\n",
       "      <th>ShotsHalf2_diff</th>\n",
       "      <th>SoTHalf1_diff</th>\n",
       "      <th>SoTHalf2_diff</th>\n",
       "    </tr>\n",
       "  </thead>\n",
       "  <tbody>\n",
       "    <tr>\n",
       "      <th>0</th>\n",
       "      <td>1</td>\n",
       "      <td>Antennae</td>\n",
       "      <td>Andromeda</td>\n",
       "      <td>Away win</td>\n",
       "      <td>2</td>\n",
       "      <td>2017</td>\n",
       "      <td>46</td>\n",
       "      <td>8.0</td>\n",
       "      <td>2.0</td>\n",
       "      <td>340.0</td>\n",
       "      <td>...</td>\n",
       "      <td>271.0</td>\n",
       "      <td>162.0</td>\n",
       "      <td>43.0</td>\n",
       "      <td>32.0</td>\n",
       "      <td>0.8633</td>\n",
       "      <td>0.8350</td>\n",
       "      <td>1.0</td>\n",
       "      <td>2.0</td>\n",
       "      <td>0.0</td>\n",
       "      <td>1.0</td>\n",
       "    </tr>\n",
       "    <tr>\n",
       "      <th>1</th>\n",
       "      <td>1</td>\n",
       "      <td>Andromeda</td>\n",
       "      <td>Antennae</td>\n",
       "      <td>Draw</td>\n",
       "      <td>9</td>\n",
       "      <td>2016</td>\n",
       "      <td>258</td>\n",
       "      <td>5.0</td>\n",
       "      <td>1.0</td>\n",
       "      <td>443.0</td>\n",
       "      <td>...</td>\n",
       "      <td>174.0</td>\n",
       "      <td>212.0</td>\n",
       "      <td>31.0</td>\n",
       "      <td>45.0</td>\n",
       "      <td>0.8486</td>\n",
       "      <td>0.8247</td>\n",
       "      <td>0.0</td>\n",
       "      <td>-5.0</td>\n",
       "      <td>0.0</td>\n",
       "      <td>1.0</td>\n",
       "    </tr>\n",
       "    <tr>\n",
       "      <th>2</th>\n",
       "      <td>1</td>\n",
       "      <td>Andromeda</td>\n",
       "      <td>Butterfly</td>\n",
       "      <td>Away win</td>\n",
       "      <td>12</td>\n",
       "      <td>2016</td>\n",
       "      <td>347</td>\n",
       "      <td>3.0</td>\n",
       "      <td>0.0</td>\n",
       "      <td>669.0</td>\n",
       "      <td>...</td>\n",
       "      <td>185.0</td>\n",
       "      <td>94.0</td>\n",
       "      <td>60.0</td>\n",
       "      <td>49.0</td>\n",
       "      <td>0.7550</td>\n",
       "      <td>0.6570</td>\n",
       "      <td>0.0</td>\n",
       "      <td>-3.0</td>\n",
       "      <td>-1.0</td>\n",
       "      <td>-1.0</td>\n",
       "    </tr>\n",
       "    <tr>\n",
       "      <th>3</th>\n",
       "      <td>1</td>\n",
       "      <td>Andromeda</td>\n",
       "      <td>Cigar</td>\n",
       "      <td>Away win</td>\n",
       "      <td>1</td>\n",
       "      <td>2017</td>\n",
       "      <td>25</td>\n",
       "      <td>5.0</td>\n",
       "      <td>2.0</td>\n",
       "      <td>384.0</td>\n",
       "      <td>...</td>\n",
       "      <td>174.0</td>\n",
       "      <td>179.0</td>\n",
       "      <td>46.0</td>\n",
       "      <td>47.0</td>\n",
       "      <td>0.7910</td>\n",
       "      <td>0.7920</td>\n",
       "      <td>-2.0</td>\n",
       "      <td>-4.0</td>\n",
       "      <td>-1.0</td>\n",
       "      <td>0.0</td>\n",
       "    </tr>\n",
       "    <tr>\n",
       "      <th>4</th>\n",
       "      <td>1</td>\n",
       "      <td>Andromeda</td>\n",
       "      <td>Circinus</td>\n",
       "      <td>Home Win</td>\n",
       "      <td>8</td>\n",
       "      <td>2016</td>\n",
       "      <td>237</td>\n",
       "      <td>13.0</td>\n",
       "      <td>2.0</td>\n",
       "      <td>542.0</td>\n",
       "      <td>...</td>\n",
       "      <td>237.0</td>\n",
       "      <td>215.0</td>\n",
       "      <td>55.0</td>\n",
       "      <td>59.0</td>\n",
       "      <td>0.8115</td>\n",
       "      <td>0.7847</td>\n",
       "      <td>4.0</td>\n",
       "      <td>4.0</td>\n",
       "      <td>0.0</td>\n",
       "      <td>2.0</td>\n",
       "    </tr>\n",
       "  </tbody>\n",
       "</table>\n",
       "<p>5 rows × 55 columns</p>\n",
       "</div>"
      ],
      "text/plain": [
       "   Season  Home Team  Away Team     Score  Month  Year  WeekOfYear  \\\n",
       "0       1   Antennae  Andromeda  Away win      2  2017          46   \n",
       "1       1  Andromeda   Antennae      Draw      9  2016         258   \n",
       "2       1  Andromeda  Butterfly  Away win     12  2016         347   \n",
       "3       1  Andromeda      Cigar  Away win      1  2017          25   \n",
       "4       1  Andromeda   Circinus  Home Win      8  2016         237   \n",
       "\n",
       "   TotalShotsPerHomeTeam  TotalSoTPerHomeTeam  TotalPassesPerHomeTeam  ...  \\\n",
       "0                    8.0                  2.0                   340.0  ...   \n",
       "1                    5.0                  1.0                   443.0  ...   \n",
       "2                    3.0                  0.0                   669.0  ...   \n",
       "3                    5.0                  2.0                   384.0  ...   \n",
       "4                   13.0                  2.0                   542.0  ...   \n",
       "\n",
       "   AccurPerHalf1Away  AccurPerHalf2Away  InaccurPerHalf1Away  \\\n",
       "0              271.0              162.0                 43.0   \n",
       "1              174.0              212.0                 31.0   \n",
       "2              185.0               94.0                 60.0   \n",
       "3              174.0              179.0                 46.0   \n",
       "4              237.0              215.0                 55.0   \n",
       "\n",
       "   InaccurPerHalf2Away  AccurPassesPerHalf1Away  AccurPassesPerHalf2Away  \\\n",
       "0                 32.0                   0.8633                   0.8350   \n",
       "1                 45.0                   0.8486                   0.8247   \n",
       "2                 49.0                   0.7550                   0.6570   \n",
       "3                 47.0                   0.7910                   0.7920   \n",
       "4                 59.0                   0.8115                   0.7847   \n",
       "\n",
       "   ShotsHalf1_diff  ShotsHalf2_diff  SoTHalf1_diff  SoTHalf2_diff  \n",
       "0              1.0              2.0            0.0            1.0  \n",
       "1              0.0             -5.0            0.0            1.0  \n",
       "2              0.0             -3.0           -1.0           -1.0  \n",
       "3             -2.0             -4.0           -1.0            0.0  \n",
       "4              4.0              4.0            0.0            2.0  \n",
       "\n",
       "[5 rows x 55 columns]"
      ]
     },
     "execution_count": 6,
     "metadata": {},
     "output_type": "execute_result"
    }
   ],
   "source": [
    "df.head()"
   ]
  },
  {
   "cell_type": "markdown",
   "metadata": {
    "id": "-Rrhevr3meLE"
   },
   "source": [
    "Train and evaluate using K-Fold (K=5) without shuffling, and with F1 Score as the metric."
   ]
  },
  {
   "cell_type": "code",
   "execution_count": 18,
   "metadata": {
    "colab": {
     "base_uri": "https://localhost:8080/",
     "height": 436
    },
    "id": "5-k27ikPnM8c",
    "outputId": "d0c37cdc-d1c9-48ec-c971-d3ce6cbf4dde"
   },
   "outputs": [
    {
     "name": "stdout",
     "output_type": "stream",
     "text": [
      "0    2\n",
      "1    1\n",
      "2    2\n",
      "3    2\n",
      "4    0\n",
      "Name: Score, dtype: int64\n"
     ]
    }
   ],
   "source": [
    "from sklearn import preprocessing\n",
    "from sklearn.preprocessing import LabelEncoder\n",
    "from sklearn.preprocessing import StandardScaler\n",
    "\n",
    "X = df.drop('Score', axis = 1)\n",
    "y = df['Score'].map({\n",
    "    \"Home Win\": 0,\n",
    "    \"Draw\": 1,\n",
    "    \"Away win\": 2\n",
    "    })\n",
    "print(y.head())\n",
    "\n",
    "le = LabelEncoder()\n",
    "\n",
    "X['Home Team'] = le.fit_transform(X['Home Team'])\n",
    "X['Away Team'] = le.fit_transform(X['Away Team'])\n",
    "\n",
    "X_scaled = StandardScaler().fit_transform(X)"
   ]
  },
  {
   "cell_type": "markdown",
   "metadata": {
    "id": "kdbSFdK6qkEm"
   },
   "source": []
  },
  {
   "cell_type": "code",
   "execution_count": 10,
   "metadata": {
    "id": "xdVmgvy7qZ09"
   },
   "outputs": [],
   "source": [
    "from sklearn.metrics import f1_score"
   ]
  },
  {
   "cell_type": "code",
   "execution_count": 20,
   "metadata": {
    "colab": {
     "base_uri": "https://localhost:8080/",
     "height": 382
    },
    "id": "rCQkbMFzl5VQ",
    "outputId": "589f1db7-b710-4c7e-a509-dc490616e8ce"
   },
   "outputs": [
    {
     "name": "stdout",
     "output_type": "stream",
     "text": [
      "[0 1 2]\n",
      "[0 1 2]\n",
      "[0 1 2]\n",
      "[0 1 2]\n",
      "[0 1 2]\n"
     ]
    }
   ],
   "source": [
    "from sklearn.linear_model import LogisticRegression\n",
    "from sklearn.model_selection import KFold\n",
    "\n",
    "fold_f1scores = []\n",
    "Model = LogisticRegression(max_iter=500)  # Increase iterations\n",
    "CV = KFold(n_splits=5, shuffle=False)\n",
    "\n",
    "for train_index, test_index in CV.split(X_scaled, y):\n",
    "    # Use direct indexing (no .iloc)\n",
    "    X_train, X_test = X_scaled[train_index], X_scaled[test_index]  \n",
    "    y_train, y_test = y.iloc[train_index], y.iloc[test_index]  # y is still a DataFrame, so use .iloc\n",
    "\n",
    "    Model.fit(X_train, y_train)\n",
    "    \n",
    "    print(Model.classes_)  # Ensure correct class attribute\n",
    "\n",
    "    y_pred = Model.predict(X_test)\n",
    "    \n",
    "    # Compute F1 Score\n",
    "    fold_f1scores.append(f1_score(y_test, y_pred, average=\"weighted\"))"
   ]
  },
  {
   "cell_type": "code",
   "execution_count": 22,
   "metadata": {
    "colab": {
     "base_uri": "https://localhost:8080/",
     "height": 144
    },
    "id": "nFE65MeYr7eB",
    "outputId": "0a76e1ea-1da1-4e67-d3a4-e7badfdfb484"
   },
   "outputs": [
    {
     "name": "stdout",
     "output_type": "stream",
     "text": [
      "Average F1 Score: 0.5218438538289829\n"
     ]
    }
   ],
   "source": [
    "print(\"Average F1 Score:\", sum(fold_f1scores) / len(fold_f1scores))"
   ]
  },
  {
   "cell_type": "code",
   "execution_count": 24,
   "metadata": {
    "colab": {
     "base_uri": "https://localhost:8080/",
     "height": 216
    },
    "id": "i8p-4C52ycyy",
    "outputId": "ba54437d-c197-4821-ca4b-8a542b1323f8"
   },
   "outputs": [
    {
     "data": {
      "image/png": "[encoded data removed]",
      "text/plain": [
       "<Figure size 1000x600 with 1 Axes>"
      ]
     },
     "metadata": {},
     "output_type": "display_data"
    }
   ],
   "source": [
    "import matplotlib.pyplot as plt\n",
    "\n",
    "# Get feature importance (model coefficients)\n",
    "importance = Model.coef_[0]  # Extract the first row since it's a binary classification\n",
    "\n",
    "# Convert to a Pandas Series for visualization\n",
    "feature_importance = pd.Series(importance, index=X.columns)  # Ensure matching feature names\n",
    "\n",
    "# Plot the top 20 important features\n",
    "plt.figure(figsize=(10, 6))\n",
    "feature_importance.nlargest(20).plot(kind='barh', color='red', title='Feature Importance (Logistic Regression)')\n",
    "plt.xlabel('Coefficient Value')\n",
    "plt.ylabel('Features')\n",
    "plt.gca().invert_yaxis()  # Highest importance at the top\n",
    "plt.show()\n"
   ]
  },
  {
   "cell_type": "code",
   "execution_count": null,
   "metadata": {},
   "outputs": [],
   "source": []
  }
 ],
 "metadata": {
  "colab": {
   "provenance": []
  },
  "kernelspec": {
   "display_name": "Python 3 (ipykernel)",
   "language": "python",
   "name": "python3"
  },
  "language_info": {
   "codemirror_mode": {
    "name": "ipython",
    "version": 3
   },
   "file_extension": ".py",
   "mimetype": "text/x-python",
   "name": "python",
   "nbconvert_exporter": "python",
   "pygments_lexer": "ipython3",
   "version": "3.11.5"
  }
 },
 "nbformat": 4,
 "nbformat_minor": 1
}
