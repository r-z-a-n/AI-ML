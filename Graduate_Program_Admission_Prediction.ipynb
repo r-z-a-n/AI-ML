{
 "cells": [
  {
   "cell_type": "markdown",
   "id": "7789635f",
   "metadata": {},
   "source": [
    "## In this dataset, the data represents information related to graduate admissions with multiple features (X) that are considered during the admission process. The features are the following: Serial No., GRE Score, TOEFL Score, University Rating, Statement of Purpose (SOP), Letter of Recommendation (LOR) Strength, Cumulative Grade Point Average (CGPA), Research Experience (1 for having research experience and 0 for none). The last column represents the target value (y) Chance of Admit which is a number between 0 and 1 indicating the likelihood of admission.\n",
    "\n",
    "## The dataset contains 500 examples, these examples will be used to analyze the relationship between the multiple features described above and the chance of being admitted to a graduate program, in order to build a predictive multivariate linear regression model."
   ]
  },
  {
   "cell_type": "markdown",
   "id": "468d5806",
   "metadata": {},
   "source": [
    "# Import Necessary Libraries"
   ]
  },
  {
   "cell_type": "code",
   "execution_count": 1,
   "id": "a065f157",
   "metadata": {},
   "outputs": [],
   "source": [
    "# import necessary libraries\n",
    "import numpy as np\n",
    "import pandas as pd\n",
    "import matplotlib.pyplot as plt\n",
    "import math\n",
    "from sklearn.linear_model import LinearRegression\n",
    "from sklearn.model_selection import train_test_split\n",
    "from sklearn import preprocessing\n",
    "from sklearn.metrics import mean_squared_error\n",
    "%matplotlib inline"
   ]
  },
  {
   "cell_type": "markdown",
   "id": "fc213203",
   "metadata": {},
   "source": [
    "# Linear Regression Using Scikit Learn Library"
   ]
  },
  {
   "cell_type": "code",
   "execution_count": 2,
   "id": "5ff5adfe",
   "metadata": {},
   "outputs": [],
   "source": [
    "# Function to learn a regression model using scikit learn library \n",
    "def sklearn_linear_regression(X_train, X_test, y_train, y_test):\n",
    "    \n",
    "    # Learn a regression model using scikit learn library\n",
    "    model = LinearRegression()\n",
    "    model.fit(X_train, y_train)\n",
    "\n",
    "    # Make predictions\n",
    "    predictions = model.predict(X_test)\n",
    "\n",
    "    # Calculate Mean Squared Error\n",
    "    mse = mean_squared_error(y_test, predictions)\n",
    "\n",
    "    # Return thetas, predictions and the Mean Squared Error       \n",
    "    return model.coef_, model.intercept_, predictions, mse"
   ]
  },
  {
   "cell_type": "markdown",
   "id": "3a364b74",
   "metadata": {},
   "source": [
    "# MSE Cost Function"
   ]
  },
  {
   "cell_type": "code",
   "execution_count": 3,
   "id": "32cbffe1",
   "metadata": {},
   "outputs": [],
   "source": [
    "# Function to calculate MSE cost function\n",
    "def calculate_cost(X_train, y_train, theta):\n",
    "    \n",
    "    m = X_train.shape[0] # Number of training examples\n",
    "    \n",
    "    predictions = np.dot(X_train, theta)\n",
    "    \n",
    "    error = predictions - y_train\n",
    "    \n",
    "    cost = (1/(2*m)) * np.sum(np.square(error))\n",
    "    \n",
    "    return cost"
   ]
  },
  {
   "cell_type": "markdown",
   "id": "a073d418",
   "metadata": {},
   "source": [
    "# Batch Gradient Descent"
   ]
  },
  {
   "cell_type": "code",
   "execution_count": 4,
   "id": "603b2e87",
   "metadata": {},
   "outputs": [],
   "source": [
    "# Function to implement gradient descent\n",
    "def gradient_descent(X_train, y_train, theta, learning_rate, iterations, convergence_test):\n",
    "    \n",
    "    m = X_train.shape[0]  # Number of training examples\n",
    "    cost_history = []\n",
    "    X_train = np.column_stack((np.ones(m), X_train)) #Adding a column of ones to X_train for the intercept\n",
    "    \n",
    "    for i in range(iterations):\n",
    "        \n",
    "        # Calculate gradients and update thetas\n",
    "        prediction = np.dot(X_train, theta)\n",
    "        theta = theta - (1/m) * learning_rate * np.dot((prediction - y_train), X_train)\n",
    "        \n",
    "        # Calculate cost\n",
    "        cost_history.append(calculate_cost(X_train, y_train, theta))\n",
    "        \n",
    "        # Check if early stopping choice is selected\n",
    "        if convergence_test == 1 and i > 0:\n",
    "            # Calculate the change in cost\n",
    "            cost_change = abs(cost_history[-2] - cost_history[-1])\n",
    "            if cost_change < 0.0002:\n",
    "                print(\"\\nConvergence reached at iteration:\", i)\n",
    "                break  \n",
    "        \n",
    "\n",
    "    return theta, cost_history"
   ]
  },
  {
   "cell_type": "markdown",
   "id": "07eee34b",
   "metadata": {},
   "source": [
    "# Dataset Loading"
   ]
  },
  {
   "cell_type": "code",
   "execution_count": 5,
   "id": "fc913b06",
   "metadata": {},
   "outputs": [],
   "source": [
    "# Load the dataset.\n",
    "graduate_admission_df=pd.read_csv(\"graduate_admission_dataset.csv\")"
   ]
  },
  {
   "cell_type": "markdown",
   "id": "1872e7d2",
   "metadata": {},
   "source": [
    "# Dataset Preprocessing"
   ]
  },
  {
   "cell_type": "code",
   "execution_count": 6,
   "id": "4862abd1",
   "metadata": {},
   "outputs": [],
   "source": [
    "# Extract the input feature into X and the target into y.\n",
    "X = graduate_admission_df.iloc[:, :-1]  \n",
    "y = graduate_admission_df.iloc[:, -1]\n",
    "\n",
    "\n",
    "# Dataset standardization\n",
    "# using StandardScaler which Standardizes features by removing the mean and scaling to unit variance (Z-score normalization)\n",
    "standard = preprocessing.StandardScaler()\n",
    "\n",
    "# Fit your data on the scaler object\n",
    "X_standard = standard.fit_transform(X)\n",
    "\n",
    "# Dataset scaling\n",
    "# using MinMaxScaler which transforms features by scaling each feature to a given range\n",
    "scaler = preprocessing.MinMaxScaler()\n",
    "\n",
    "# Fit your data on the scaler object\n",
    "X_scaler = scaler.fit_transform(X)\n",
    "\n",
    "# Spliting dataset to training and testing samples\n",
    "X_train, X_test, y_train, y_test = train_test_split(X_standard, y, test_size=0.01, random_state=42)\n"
   ]
  },
  {
   "cell_type": "markdown",
   "id": "0f2eb582",
   "metadata": {},
   "source": [
    "# Prediction"
   ]
  },
  {
   "cell_type": "code",
   "execution_count": 12,
   "id": "5a41a3cc",
   "metadata": {
    "scrolled": false
   },
   "outputs": [
    {
     "name": "stdout",
     "output_type": "stream",
     "text": [
      "\n",
      "Sklearn linear Regression Theta0 (intercept): \n",
      "\n",
      " 0.7219728060635057\n",
      "\n",
      "Sklearn linear Regression Theta1: \n",
      "\n",
      " [0.01302183 0.02372265 0.01987302 0.00593008 0.00421447 0.01381918\n",
      " 0.06765544 0.01078945]\n",
      "\n",
      "Sklearn linear Regression Predictions: \n",
      "\n",
      " [0.92265252 0.78207101 0.5806913  0.70108437 0.79990382]\n",
      "\n",
      "Sklearn linear Regression Mean Squared Error:\n",
      " 0.009622151306310674\n",
      "\n",
      "Batch GD  Theta 0 & 1: \n",
      "\n",
      " [0.72197281 0.01302183 0.02372266 0.01987301 0.00593008 0.00421447\n",
      " 0.01381918 0.06765543 0.01078945]\n",
      "\n",
      " Batch GD Mean Squared Error:\n",
      " 0.0016655777111264426\n"
     ]
    },
    {
     "data": {
      "image/png": "[encoded data removed]",
      "text/plain": [
       "<Figure size 640x480 with 1 Axes>"
      ]
     },
     "metadata": {},
     "output_type": "display_data"
    }
   ],
   "source": [
    "#Parameter Initialization\n",
    "#theta = np.zeros((9, 1))\n",
    "theta = np.zeros((9,))\n",
    "learning_rate = 0.1\n",
    "iterations = 1000\n",
    "convergence_test = 0\n",
    "\n",
    "\n",
    "# Run scikit learn linear regression\n",
    "theta1, theta0, predictions, mse = sklearn_linear_regression(X_train, X_test, y_train, y_test)\n",
    "print(\"\\nSklearn linear Regression Theta0 (intercept): \\n\\n\", theta0)\n",
    "print(\"\\nSklearn linear Regression Theta1: \\n\\n\", theta1)\n",
    "#print(pd.DataFrame({\"Actual\":  y_test, \"Predict\": predictions}).head())\n",
    "print(\"\\nSklearn linear Regression Predictions: \\n\\n\", predictions)\n",
    "print(\"\\nSklearn linear Regression Mean Squared Error:\\n\", mse)\n",
    "\n",
    "\n",
    "# Run gradient descent\n",
    "theta, cost_history = gradient_descent(X_train, y_train, theta, learning_rate, iterations, convergence_test)\n",
    "print(\"\\nBatch GD  Theta 0 & 1: \\n\\n\", theta) \n",
    "print(\"\\n Batch GD Mean Squared Error:\\n\", cost_history[-1])\n",
    "\n",
    "# Plot the cost history \n",
    "plt.plot(cost_history, label='Standardized Dataset')\n",
    "plt.title('Cost Function vs. Iterations (Standardized)')\n",
    "plt.xlabel('Iterations')\n",
    "plt.ylabel('Cost')\n",
    "plt.legend()\n",
    "plt.show()"
   ]
  },
  {
   "cell_type": "code",
   "execution_count": null,
   "id": "eabda27d",
   "metadata": {},
   "outputs": [],
   "source": []
  }
 ],
 "metadata": {
  "kernelspec": {
   "display_name": "Python 3 (ipykernel)",
   "language": "python",
   "name": "python3"
  },
  "language_info": {
   "codemirror_mode": {
    "name": "ipython",
    "version": 3
   },
   "file_extension": ".py",
   "mimetype": "text/x-python",
   "name": "python",
   "nbconvert_exporter": "python",
   "pygments_lexer": "ipython3",
   "version": "3.11.5"
  }
 },
 "nbformat": 4,
 "nbformat_minor": 5
}
